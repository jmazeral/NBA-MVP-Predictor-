{
 "cells": [
  {
   "cell_type": "code",
   "execution_count": 5,
   "metadata": {},
   "outputs": [],
   "source": [
    "import pandas as pd\n",
    "import requests\n",
    "import time\n",
    "from bs4 import BeautifulSoup\n",
    "from io import StringIO"
   ]
  },
  {
   "cell_type": "code",
   "execution_count": 3,
   "metadata": {},
   "outputs": [],
   "source": [
    "# years we are scraping from\n",
    "years = list(range(1989, 2025))\n",
    "\n",
    "# webscraping url\n",
    "url = f\"https://www.basketball-reference.com/leagues/NBA_YEAR_standings.html\""
   ]
  },
  {
   "cell_type": "code",
   "execution_count": 4,
   "metadata": {},
   "outputs": [],
   "source": [
    "for year in years:\n",
    "    url = f\"https://www.basketball-reference.com/leagues/NBA_{year}_standings.html\"\n",
    "    data = requests.get(url)\n",
    "    with open(\"team/{}.html\".format(year), \"w+\", encoding=\"utf-8\") as file:\n",
    "        file.write(data.text)\n",
    "    # i hate basketballreference\n",
    "    time.sleep(5)"
   ]
  },
  {
   "cell_type": "code",
   "execution_count": 6,
   "metadata": {},
   "outputs": [],
   "source": [
    "teamdfs = []\n",
    "for year in years:\n",
    "    with open(\"team/{}.html\".format(year), encoding=\"utf-8\") as file:\n",
    "        page = file.read()\n",
    "    # two different tables, one for each conference\n",
    "    soup = BeautifulSoup(page, \"html.parser\")\n",
    "    soup.find('tr', class_='thead').decompose()\n",
    "    team_table = soup.find(id=\"divs_standings_E\")\n",
    "    team = pd.read_html(StringIO(str(team_table)))[0]\n",
    "    team[\"Year\"] = year\n",
    "    team[\"Team\"] = team[\"Eastern Conference\"]\n",
    "    del team[\"Eastern Conference\"]\n",
    "    teamdfs.append(team)\n",
    "\n",
    "    soup = BeautifulSoup(page, \"html.parser\")\n",
    "    soup.find('tr', class_='thead').decompose()\n",
    "    team_table = soup.find(id=\"divs_standings_W\")\n",
    "    team = pd.read_html(StringIO(str(team_table)))[0]\n",
    "    team[\"Year\"] = year\n",
    "    team[\"Team\"] = team[\"Western Conference\"]\n",
    "    del team[\"Western Conference\"]\n",
    "    teamdfs.append(team)\n",
    "    "
   ]
  },
  {
   "cell_type": "code",
   "execution_count": 7,
   "metadata": {},
   "outputs": [
    {
     "data": {
      "text/html": [
       "<div>\n",
       "<style scoped>\n",
       "    .dataframe tbody tr th:only-of-type {\n",
       "        vertical-align: middle;\n",
       "    }\n",
       "\n",
       "    .dataframe tbody tr th {\n",
       "        vertical-align: top;\n",
       "    }\n",
       "\n",
       "    .dataframe thead th {\n",
       "        text-align: right;\n",
       "    }\n",
       "</style>\n",
       "<table border=\"1\" class=\"dataframe\">\n",
       "  <thead>\n",
       "    <tr style=\"text-align: right;\">\n",
       "      <th></th>\n",
       "      <th>W</th>\n",
       "      <th>L</th>\n",
       "      <th>W/L%</th>\n",
       "      <th>GB</th>\n",
       "      <th>PS/G</th>\n",
       "      <th>PA/G</th>\n",
       "      <th>SRS</th>\n",
       "      <th>Year</th>\n",
       "      <th>Team</th>\n",
       "    </tr>\n",
       "  </thead>\n",
       "  <tbody>\n",
       "    <tr>\n",
       "      <th>0</th>\n",
       "      <td>52</td>\n",
       "      <td>30</td>\n",
       "      <td>.634</td>\n",
       "      <td>—</td>\n",
       "      <td>116.7</td>\n",
       "      <td>112.9</td>\n",
       "      <td>3.62</td>\n",
       "      <td>1989</td>\n",
       "      <td>New York Knicks*</td>\n",
       "    </tr>\n",
       "    <tr>\n",
       "      <th>1</th>\n",
       "      <td>46</td>\n",
       "      <td>36</td>\n",
       "      <td>.561</td>\n",
       "      <td>6.0</td>\n",
       "      <td>111.9</td>\n",
       "      <td>110.4</td>\n",
       "      <td>1.68</td>\n",
       "      <td>1989</td>\n",
       "      <td>Philadelphia 76ers*</td>\n",
       "    </tr>\n",
       "    <tr>\n",
       "      <th>2</th>\n",
       "      <td>42</td>\n",
       "      <td>40</td>\n",
       "      <td>.512</td>\n",
       "      <td>10.0</td>\n",
       "      <td>109.2</td>\n",
       "      <td>108.1</td>\n",
       "      <td>1.26</td>\n",
       "      <td>1989</td>\n",
       "      <td>Boston Celtics*</td>\n",
       "    </tr>\n",
       "    <tr>\n",
       "      <th>3</th>\n",
       "      <td>40</td>\n",
       "      <td>42</td>\n",
       "      <td>.488</td>\n",
       "      <td>12.0</td>\n",
       "      <td>108.3</td>\n",
       "      <td>110.4</td>\n",
       "      <td>-1.77</td>\n",
       "      <td>1989</td>\n",
       "      <td>Washington Bullets</td>\n",
       "    </tr>\n",
       "    <tr>\n",
       "      <th>4</th>\n",
       "      <td>26</td>\n",
       "      <td>56</td>\n",
       "      <td>.317</td>\n",
       "      <td>26.0</td>\n",
       "      <td>103.7</td>\n",
       "      <td>110.1</td>\n",
       "      <td>-5.69</td>\n",
       "      <td>1989</td>\n",
       "      <td>New Jersey Nets</td>\n",
       "    </tr>\n",
       "  </tbody>\n",
       "</table>\n",
       "</div>"
      ],
      "text/plain": [
       "    W   L  W/L%    GB   PS/G   PA/G    SRS  Year                 Team\n",
       "0  52  30  .634     —  116.7  112.9   3.62  1989     New York Knicks*\n",
       "1  46  36  .561   6.0  111.9  110.4   1.68  1989  Philadelphia 76ers*\n",
       "2  42  40  .512  10.0  109.2  108.1   1.26  1989      Boston Celtics*\n",
       "3  40  42  .488  12.0  108.3  110.4  -1.77  1989   Washington Bullets\n",
       "4  26  56  .317  26.0  103.7  110.1  -5.69  1989      New Jersey Nets"
      ]
     },
     "execution_count": 7,
     "metadata": {},
     "output_type": "execute_result"
    }
   ],
   "source": [
    "teams = pd.concat(teamdfs)\n",
    "teams.head()"
   ]
  },
  {
   "cell_type": "code",
   "execution_count": 8,
   "metadata": {},
   "outputs": [],
   "source": [
    "teams.to_csv(\"team.csv\")"
   ]
  }
 ],
 "metadata": {
  "kernelspec": {
   "display_name": "Python 3",
   "language": "python",
   "name": "python3"
  },
  "language_info": {
   "codemirror_mode": {
    "name": "ipython",
    "version": 3
   },
   "file_extension": ".py",
   "mimetype": "text/x-python",
   "name": "python",
   "nbconvert_exporter": "python",
   "pygments_lexer": "ipython3",
   "version": "3.11.9"
  }
 },
 "nbformat": 4,
 "nbformat_minor": 2
}
